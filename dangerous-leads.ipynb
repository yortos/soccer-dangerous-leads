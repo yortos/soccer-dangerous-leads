{
 "cells": [
  {
   "cell_type": "code",
   "execution_count": 1,
   "metadata": {
    "ExecuteTime": {
     "end_time": "2018-10-29T11:19:13.687882",
     "start_time": "2018-10-29T11:19:12.281781"
    }
   },
   "outputs": [],
   "source": [
    "import pandas\n",
    "import numpy\n",
    "import matplotlib.pyplot as plt\n",
    "import seaborn\n",
    "seaborn.set_style('white')\n",
    "%matplotlib inline"
   ]
  },
  {
   "cell_type": "code",
   "execution_count": 2,
   "metadata": {
    "ExecuteTime": {
     "end_time": "2018-10-29T11:19:17.285568",
     "start_time": "2018-10-29T11:19:13.689403"
    }
   },
   "outputs": [
    {
     "data": {
      "text/plain": [
       "Index(['id_odsp', 'id_event', 'sort_order', 'time', 'text', 'event_type',\n",
       "       'event_type2', 'side', 'event_team', 'opponent', 'player', 'player2',\n",
       "       'player_in', 'player_out', 'shot_place', 'shot_outcome', 'is_goal',\n",
       "       'location', 'bodypart', 'assist_method', 'situation', 'fast_break'],\n",
       "      dtype='object')"
      ]
     },
     "execution_count": 2,
     "metadata": {},
     "output_type": "execute_result"
    }
   ],
   "source": [
    "events = pandas.read_csv('events.csv')\n",
    "events.columns"
   ]
  },
  {
   "cell_type": "markdown",
   "metadata": {},
   "source": [
    "## get the winner of each game"
   ]
  },
  {
   "cell_type": "code",
   "execution_count": 3,
   "metadata": {
    "ExecuteTime": {
     "end_time": "2018-10-29T11:19:17.448431",
     "start_time": "2018-10-29T11:19:17.287572"
    }
   },
   "outputs": [
    {
     "name": "stderr",
     "output_type": "stream",
     "text": [
      "/anaconda3/lib/python3.6/site-packages/ipykernel_launcher.py:4: UserWarning: Boolean Series key will be reindexed to match DataFrame index.\n",
      "  after removing the cwd from sys.path.\n",
      "/anaconda3/lib/python3.6/site-packages/ipykernel_launcher.py:8: UserWarning: Boolean Series key will be reindexed to match DataFrame index.\n",
      "  \n"
     ]
    },
    {
     "data": {
      "text/html": [
       "<div>\n",
       "<style scoped>\n",
       "    .dataframe tbody tr th:only-of-type {\n",
       "        vertical-align: middle;\n",
       "    }\n",
       "\n",
       "    .dataframe tbody tr th {\n",
       "        vertical-align: top;\n",
       "    }\n",
       "\n",
       "    .dataframe thead th {\n",
       "        text-align: right;\n",
       "    }\n",
       "</style>\n",
       "<table border=\"1\" class=\"dataframe\">\n",
       "  <thead>\n",
       "    <tr style=\"text-align: right;\">\n",
       "      <th></th>\n",
       "      <th>id_odsp</th>\n",
       "      <th>final_num_goals_home</th>\n",
       "      <th>final_num_goals_away</th>\n",
       "    </tr>\n",
       "  </thead>\n",
       "  <tbody>\n",
       "    <tr>\n",
       "      <th>0</th>\n",
       "      <td>00LMl81F/</td>\n",
       "      <td>2.0</td>\n",
       "      <td>3.0</td>\n",
       "    </tr>\n",
       "    <tr>\n",
       "      <th>1</th>\n",
       "      <td>00QH2XdM/</td>\n",
       "      <td>3.0</td>\n",
       "      <td>2.0</td>\n",
       "    </tr>\n",
       "    <tr>\n",
       "      <th>2</th>\n",
       "      <td>00QL4t1L/</td>\n",
       "      <td>2.0</td>\n",
       "      <td>0.0</td>\n",
       "    </tr>\n",
       "    <tr>\n",
       "      <th>3</th>\n",
       "      <td>00WAhrVe/</td>\n",
       "      <td>3.0</td>\n",
       "      <td>1.0</td>\n",
       "    </tr>\n",
       "    <tr>\n",
       "      <th>4</th>\n",
       "      <td>00Wld37M/</td>\n",
       "      <td>2.0</td>\n",
       "      <td>0.0</td>\n",
       "    </tr>\n",
       "  </tbody>\n",
       "</table>\n",
       "</div>"
      ],
      "text/plain": [
       "     id_odsp  final_num_goals_home  final_num_goals_away\n",
       "0  00LMl81F/                   2.0                   3.0\n",
       "1  00QH2XdM/                   3.0                   2.0\n",
       "2  00QL4t1L/                   2.0                   0.0\n",
       "3  00WAhrVe/                   3.0                   1.0\n",
       "4  00Wld37M/                   2.0                   0.0"
      ]
     },
     "execution_count": 3,
     "metadata": {},
     "output_type": "execute_result"
    }
   ],
   "source": [
    "## get the number of goals each side scored\n",
    "\n",
    "#number of goals from the home side\n",
    "home_side_goals = pandas.DataFrame({'final_num_goals_home' : events[events['is_goal']==1][events['side']==1].groupby('id_odsp').size()})\n",
    "home_side_goals.reset_index(inplace = True)\n",
    "\n",
    "#number of goals from the away side\n",
    "away_side_goals = pandas.DataFrame({'final_num_goals_away' : events[events['is_goal']==1][events['side']==2].groupby('id_odsp').size()})\n",
    "away_side_goals.reset_index(inplace = True)\n",
    "\n",
    "#merge the two on the game id\n",
    "num_goals = pandas.merge(home_side_goals, away_side_goals, on='id_odsp', how='outer') ##left join so that we \n",
    "num_goals.fillna(0, inplace = True)\n",
    "num_goals.head()"
   ]
  },
  {
   "cell_type": "code",
   "execution_count": 4,
   "metadata": {
    "ExecuteTime": {
     "end_time": "2018-10-29T11:19:17.679890",
     "start_time": "2018-10-29T11:19:17.450568"
    }
   },
   "outputs": [
    {
     "data": {
      "text/html": [
       "<div>\n",
       "<style scoped>\n",
       "    .dataframe tbody tr th:only-of-type {\n",
       "        vertical-align: middle;\n",
       "    }\n",
       "\n",
       "    .dataframe tbody tr th {\n",
       "        vertical-align: top;\n",
       "    }\n",
       "\n",
       "    .dataframe thead th {\n",
       "        text-align: right;\n",
       "    }\n",
       "</style>\n",
       "<table border=\"1\" class=\"dataframe\">\n",
       "  <thead>\n",
       "    <tr style=\"text-align: right;\">\n",
       "      <th></th>\n",
       "      <th>id_odsp</th>\n",
       "      <th>final_num_goals_home</th>\n",
       "      <th>final_num_goals_away</th>\n",
       "      <th>winner</th>\n",
       "    </tr>\n",
       "  </thead>\n",
       "  <tbody>\n",
       "    <tr>\n",
       "      <th>0</th>\n",
       "      <td>00LMl81F/</td>\n",
       "      <td>2.0</td>\n",
       "      <td>3.0</td>\n",
       "      <td>2</td>\n",
       "    </tr>\n",
       "    <tr>\n",
       "      <th>1</th>\n",
       "      <td>00QH2XdM/</td>\n",
       "      <td>3.0</td>\n",
       "      <td>2.0</td>\n",
       "      <td>1</td>\n",
       "    </tr>\n",
       "    <tr>\n",
       "      <th>2</th>\n",
       "      <td>00QL4t1L/</td>\n",
       "      <td>2.0</td>\n",
       "      <td>0.0</td>\n",
       "      <td>1</td>\n",
       "    </tr>\n",
       "    <tr>\n",
       "      <th>3</th>\n",
       "      <td>00WAhrVe/</td>\n",
       "      <td>3.0</td>\n",
       "      <td>1.0</td>\n",
       "      <td>1</td>\n",
       "    </tr>\n",
       "    <tr>\n",
       "      <th>4</th>\n",
       "      <td>00Wld37M/</td>\n",
       "      <td>2.0</td>\n",
       "      <td>0.0</td>\n",
       "      <td>1</td>\n",
       "    </tr>\n",
       "  </tbody>\n",
       "</table>\n",
       "</div>"
      ],
      "text/plain": [
       "     id_odsp  final_num_goals_home  final_num_goals_away  winner\n",
       "0  00LMl81F/                   2.0                   3.0       2\n",
       "1  00QH2XdM/                   3.0                   2.0       1\n",
       "2  00QL4t1L/                   2.0                   0.0       1\n",
       "3  00WAhrVe/                   3.0                   1.0       1\n",
       "4  00Wld37M/                   2.0                   0.0       1"
      ]
     },
     "execution_count": 4,
     "metadata": {},
     "output_type": "execute_result"
    }
   ],
   "source": [
    "def get_winner(n_home, n_away): ##get two numbers and return 0 if draw or the winning side\n",
    "    if n_home == n_away:\n",
    "        return 0\n",
    "    elif n_home < n_away: #if the away team won\n",
    "        return 2\n",
    "    else:\n",
    "        return 1\n",
    "\n",
    "num_goals['winner'] = num_goals.apply(lambda x: get_winner(x['final_num_goals_home'], x['final_num_goals_away']), axis = 1)\n",
    "num_goals.head()"
   ]
  },
  {
   "cell_type": "markdown",
   "metadata": {},
   "source": [
    "## get the biggest lead in the game"
   ]
  },
  {
   "cell_type": "markdown",
   "metadata": {},
   "source": [
    "### get all the goals scored in order"
   ]
  },
  {
   "cell_type": "code",
   "execution_count": 5,
   "metadata": {
    "ExecuteTime": {
     "end_time": "2018-10-29T11:19:17.760445",
     "start_time": "2018-10-29T11:19:17.681502"
    }
   },
   "outputs": [
    {
     "data": {
      "text/html": [
       "<div>\n",
       "<style scoped>\n",
       "    .dataframe tbody tr th:only-of-type {\n",
       "        vertical-align: middle;\n",
       "    }\n",
       "\n",
       "    .dataframe tbody tr th {\n",
       "        vertical-align: top;\n",
       "    }\n",
       "\n",
       "    .dataframe thead th {\n",
       "        text-align: right;\n",
       "    }\n",
       "</style>\n",
       "<table border=\"1\" class=\"dataframe\">\n",
       "  <thead>\n",
       "    <tr style=\"text-align: right;\">\n",
       "      <th></th>\n",
       "      <th>id_odsp</th>\n",
       "      <th>time</th>\n",
       "      <th>side</th>\n",
       "    </tr>\n",
       "  </thead>\n",
       "  <tbody>\n",
       "    <tr>\n",
       "      <th>0</th>\n",
       "      <td>004f4ING/</td>\n",
       "      <td>82</td>\n",
       "      <td>2</td>\n",
       "    </tr>\n",
       "    <tr>\n",
       "      <th>1</th>\n",
       "      <td>00LMl81F/</td>\n",
       "      <td>17</td>\n",
       "      <td>2</td>\n",
       "    </tr>\n",
       "    <tr>\n",
       "      <th>2</th>\n",
       "      <td>00LMl81F/</td>\n",
       "      <td>28</td>\n",
       "      <td>1</td>\n",
       "    </tr>\n",
       "    <tr>\n",
       "      <th>3</th>\n",
       "      <td>00LMl81F/</td>\n",
       "      <td>30</td>\n",
       "      <td>2</td>\n",
       "    </tr>\n",
       "    <tr>\n",
       "      <th>4</th>\n",
       "      <td>00LMl81F/</td>\n",
       "      <td>78</td>\n",
       "      <td>2</td>\n",
       "    </tr>\n",
       "  </tbody>\n",
       "</table>\n",
       "</div>"
      ],
      "text/plain": [
       "     id_odsp  time  side\n",
       "0  004f4ING/    82     2\n",
       "1  00LMl81F/    17     2\n",
       "2  00LMl81F/    28     1\n",
       "3  00LMl81F/    30     2\n",
       "4  00LMl81F/    78     2"
      ]
     },
     "execution_count": 5,
     "metadata": {},
     "output_type": "execute_result"
    }
   ],
   "source": [
    "all_goals = events[events['is_goal']==1].sort_values(by= ['id_odsp','time'])[['id_odsp','time','side']]\n",
    "all_goals.reset_index(inplace = True)\n",
    "del all_goals['index']\n",
    "all_goals.head()"
   ]
  },
  {
   "cell_type": "markdown",
   "metadata": {},
   "source": [
    "### go through all the goals and update the scoreboard"
   ]
  },
  {
   "cell_type": "code",
   "execution_count": 6,
   "metadata": {
    "ExecuteTime": {
     "end_time": "2018-10-29T11:19:18.566875",
     "start_time": "2018-10-29T11:19:17.762783"
    }
   },
   "outputs": [],
   "source": [
    "goals_side_1 = []\n",
    "goals_side_2 = []\n",
    "\n",
    "current_game = None\n",
    "\n",
    "\n",
    "for i in range(len(all_goals)):\n",
    "    game = all_goals['id_odsp'][i]\n",
    "    side = all_goals['side'][i]\n",
    "    \n",
    "    if game == current_game:\n",
    "        if side == 1:\n",
    "            goals_side_1.append(goals_side_1[i-1]+1)\n",
    "            goals_side_2.append(goals_side_2[i-1])\n",
    "        else:\n",
    "            goals_side_1.append(goals_side_1[i-1])\n",
    "            goals_side_2.append(goals_side_2[i-1]+1)\n",
    "    else:\n",
    "        current_game = game\n",
    "        if side == 1:\n",
    "            goals_side_1.append(1)\n",
    "            goals_side_2.append(0)\n",
    "        else:\n",
    "            goals_side_1.append(0)\n",
    "            goals_side_2.append(1)"
   ]
  },
  {
   "cell_type": "code",
   "execution_count": 7,
   "metadata": {
    "ExecuteTime": {
     "end_time": "2018-10-29T11:19:18.573352",
     "start_time": "2018-10-29T11:19:18.568507"
    }
   },
   "outputs": [
    {
     "data": {
      "text/plain": [
       "(24446, 24446, 24446)"
      ]
     },
     "execution_count": 7,
     "metadata": {},
     "output_type": "execute_result"
    }
   ],
   "source": [
    "len(goals_side_1), len(goals_side_2), len(all_goals)"
   ]
  },
  {
   "cell_type": "code",
   "execution_count": 8,
   "metadata": {
    "ExecuteTime": {
     "end_time": "2018-10-29T11:19:18.653539",
     "start_time": "2018-10-29T11:19:18.574931"
    }
   },
   "outputs": [],
   "source": [
    "all_goals['goals_side_1'] = goals_side_1\n",
    "all_goals['goals_side_2'] = goals_side_2"
   ]
  },
  {
   "cell_type": "markdown",
   "metadata": {},
   "source": [
    "### join the scoreboard df with the final winner df"
   ]
  },
  {
   "cell_type": "code",
   "execution_count": 9,
   "metadata": {
    "ExecuteTime": {
     "end_time": "2018-10-29T11:19:18.671823",
     "start_time": "2018-10-29T11:19:18.655597"
    }
   },
   "outputs": [],
   "source": [
    "df = pandas.merge(all_goals, num_goals, on ='id_odsp', how='inner')"
   ]
  },
  {
   "cell_type": "markdown",
   "metadata": {},
   "source": [
    "### number of games that had at one point each observed scoreline"
   ]
  },
  {
   "cell_type": "code",
   "execution_count": 10,
   "metadata": {
    "ExecuteTime": {
     "end_time": "2018-10-29T11:19:18.694953",
     "start_time": "2018-10-29T11:19:18.673903"
    }
   },
   "outputs": [
    {
     "name": "stdout",
     "output_type": "stream",
     "text": [
      "There are 57 unique scorelines\n"
     ]
    },
    {
     "data": {
      "text/html": [
       "<div>\n",
       "<style scoped>\n",
       "    .dataframe tbody tr th:only-of-type {\n",
       "        vertical-align: middle;\n",
       "    }\n",
       "\n",
       "    .dataframe tbody tr th {\n",
       "        vertical-align: top;\n",
       "    }\n",
       "\n",
       "    .dataframe thead th {\n",
       "        text-align: right;\n",
       "    }\n",
       "</style>\n",
       "<table border=\"1\" class=\"dataframe\">\n",
       "  <thead>\n",
       "    <tr style=\"text-align: right;\">\n",
       "      <th></th>\n",
       "      <th>goals_side_1</th>\n",
       "      <th>goals_side_2</th>\n",
       "      <th>num_games</th>\n",
       "    </tr>\n",
       "  </thead>\n",
       "  <tbody>\n",
       "    <tr>\n",
       "      <th>0</th>\n",
       "      <td>0</td>\n",
       "      <td>1</td>\n",
       "      <td>3485</td>\n",
       "    </tr>\n",
       "    <tr>\n",
       "      <th>1</th>\n",
       "      <td>0</td>\n",
       "      <td>2</td>\n",
       "      <td>1304</td>\n",
       "    </tr>\n",
       "    <tr>\n",
       "      <th>2</th>\n",
       "      <td>0</td>\n",
       "      <td>3</td>\n",
       "      <td>451</td>\n",
       "    </tr>\n",
       "    <tr>\n",
       "      <th>3</th>\n",
       "      <td>0</td>\n",
       "      <td>4</td>\n",
       "      <td>139</td>\n",
       "    </tr>\n",
       "    <tr>\n",
       "      <th>4</th>\n",
       "      <td>0</td>\n",
       "      <td>5</td>\n",
       "      <td>44</td>\n",
       "    </tr>\n",
       "  </tbody>\n",
       "</table>\n",
       "</div>"
      ],
      "text/plain": [
       "   goals_side_1  goals_side_2  num_games\n",
       "0             0             1       3485\n",
       "1             0             2       1304\n",
       "2             0             3        451\n",
       "3             0             4        139\n",
       "4             0             5         44"
      ]
     },
     "execution_count": 10,
     "metadata": {},
     "output_type": "execute_result"
    }
   ],
   "source": [
    "num_games = df.groupby(['goals_side_1', 'goals_side_2']).size().to_frame().reset_index().rename(columns = {0 : 'num_games'})\n",
    "print('There are %s unique scorelines' %len(num_games))\n",
    "num_games.head()"
   ]
  },
  {
   "cell_type": "code",
   "execution_count": 61,
   "metadata": {},
   "outputs": [],
   "source": [
    "num_games['goals_side_1'] = num_games['goals_side_1'].apply(lambda x: str(x))\n",
    "num_games['goals_side_2'] = num_games['goals_side_2'].apply(lambda x: str(x))\n"
   ]
  },
  {
   "cell_type": "markdown",
   "metadata": {},
   "source": [
    "### number of each eventual result for each scoreline"
   ]
  },
  {
   "cell_type": "code",
   "execution_count": 11,
   "metadata": {
    "ExecuteTime": {
     "end_time": "2018-10-29T11:19:18.971873",
     "start_time": "2018-10-29T11:19:18.696999"
    },
    "collapsed": true
   },
   "outputs": [
    {
     "name": "stderr",
     "output_type": "stream",
     "text": [
      "/anaconda3/lib/python3.6/site-packages/ipykernel_launcher.py:7: UserWarning: Boolean Series key will be reindexed to match DataFrame index.\n",
      "  import sys\n",
      "/anaconda3/lib/python3.6/site-packages/ipykernel_launcher.py:7: UserWarning: Boolean Series key will be reindexed to match DataFrame index.\n",
      "  import sys\n",
      "/anaconda3/lib/python3.6/site-packages/ipykernel_launcher.py:7: UserWarning: Boolean Series key will be reindexed to match DataFrame index.\n",
      "  import sys\n",
      "/anaconda3/lib/python3.6/site-packages/ipykernel_launcher.py:7: UserWarning: Boolean Series key will be reindexed to match DataFrame index.\n",
      "  import sys\n",
      "/anaconda3/lib/python3.6/site-packages/ipykernel_launcher.py:7: UserWarning: Boolean Series key will be reindexed to match DataFrame index.\n",
      "  import sys\n",
      "/anaconda3/lib/python3.6/site-packages/ipykernel_launcher.py:7: UserWarning: Boolean Series key will be reindexed to match DataFrame index.\n",
      "  import sys\n",
      "/anaconda3/lib/python3.6/site-packages/ipykernel_launcher.py:7: UserWarning: Boolean Series key will be reindexed to match DataFrame index.\n",
      "  import sys\n",
      "/anaconda3/lib/python3.6/site-packages/ipykernel_launcher.py:7: UserWarning: Boolean Series key will be reindexed to match DataFrame index.\n",
      "  import sys\n",
      "/anaconda3/lib/python3.6/site-packages/ipykernel_launcher.py:7: UserWarning: Boolean Series key will be reindexed to match DataFrame index.\n",
      "  import sys\n",
      "/anaconda3/lib/python3.6/site-packages/ipykernel_launcher.py:7: UserWarning: Boolean Series key will be reindexed to match DataFrame index.\n",
      "  import sys\n",
      "/anaconda3/lib/python3.6/site-packages/ipykernel_launcher.py:7: UserWarning: Boolean Series key will be reindexed to match DataFrame index.\n",
      "  import sys\n",
      "/anaconda3/lib/python3.6/site-packages/ipykernel_launcher.py:7: UserWarning: Boolean Series key will be reindexed to match DataFrame index.\n",
      "  import sys\n",
      "/anaconda3/lib/python3.6/site-packages/ipykernel_launcher.py:7: UserWarning: Boolean Series key will be reindexed to match DataFrame index.\n",
      "  import sys\n",
      "/anaconda3/lib/python3.6/site-packages/ipykernel_launcher.py:7: UserWarning: Boolean Series key will be reindexed to match DataFrame index.\n",
      "  import sys\n",
      "/anaconda3/lib/python3.6/site-packages/ipykernel_launcher.py:7: UserWarning: Boolean Series key will be reindexed to match DataFrame index.\n",
      "  import sys\n",
      "/anaconda3/lib/python3.6/site-packages/ipykernel_launcher.py:7: UserWarning: Boolean Series key will be reindexed to match DataFrame index.\n",
      "  import sys\n",
      "/anaconda3/lib/python3.6/site-packages/ipykernel_launcher.py:7: UserWarning: Boolean Series key will be reindexed to match DataFrame index.\n",
      "  import sys\n",
      "/anaconda3/lib/python3.6/site-packages/ipykernel_launcher.py:7: UserWarning: Boolean Series key will be reindexed to match DataFrame index.\n",
      "  import sys\n",
      "/anaconda3/lib/python3.6/site-packages/ipykernel_launcher.py:7: UserWarning: Boolean Series key will be reindexed to match DataFrame index.\n",
      "  import sys\n",
      "/anaconda3/lib/python3.6/site-packages/ipykernel_launcher.py:7: UserWarning: Boolean Series key will be reindexed to match DataFrame index.\n",
      "  import sys\n",
      "/anaconda3/lib/python3.6/site-packages/ipykernel_launcher.py:7: UserWarning: Boolean Series key will be reindexed to match DataFrame index.\n",
      "  import sys\n",
      "/anaconda3/lib/python3.6/site-packages/ipykernel_launcher.py:7: UserWarning: Boolean Series key will be reindexed to match DataFrame index.\n",
      "  import sys\n",
      "/anaconda3/lib/python3.6/site-packages/ipykernel_launcher.py:7: UserWarning: Boolean Series key will be reindexed to match DataFrame index.\n",
      "  import sys\n",
      "/anaconda3/lib/python3.6/site-packages/ipykernel_launcher.py:7: UserWarning: Boolean Series key will be reindexed to match DataFrame index.\n",
      "  import sys\n",
      "/anaconda3/lib/python3.6/site-packages/ipykernel_launcher.py:7: UserWarning: Boolean Series key will be reindexed to match DataFrame index.\n",
      "  import sys\n",
      "/anaconda3/lib/python3.6/site-packages/ipykernel_launcher.py:7: UserWarning: Boolean Series key will be reindexed to match DataFrame index.\n",
      "  import sys\n",
      "/anaconda3/lib/python3.6/site-packages/ipykernel_launcher.py:7: UserWarning: Boolean Series key will be reindexed to match DataFrame index.\n",
      "  import sys\n",
      "/anaconda3/lib/python3.6/site-packages/ipykernel_launcher.py:7: UserWarning: Boolean Series key will be reindexed to match DataFrame index.\n",
      "  import sys\n",
      "/anaconda3/lib/python3.6/site-packages/ipykernel_launcher.py:7: UserWarning: Boolean Series key will be reindexed to match DataFrame index.\n",
      "  import sys\n",
      "/anaconda3/lib/python3.6/site-packages/ipykernel_launcher.py:7: UserWarning: Boolean Series key will be reindexed to match DataFrame index.\n",
      "  import sys\n",
      "/anaconda3/lib/python3.6/site-packages/ipykernel_launcher.py:7: UserWarning: Boolean Series key will be reindexed to match DataFrame index.\n",
      "  import sys\n",
      "/anaconda3/lib/python3.6/site-packages/ipykernel_launcher.py:7: UserWarning: Boolean Series key will be reindexed to match DataFrame index.\n",
      "  import sys\n",
      "/anaconda3/lib/python3.6/site-packages/ipykernel_launcher.py:7: UserWarning: Boolean Series key will be reindexed to match DataFrame index.\n",
      "  import sys\n",
      "/anaconda3/lib/python3.6/site-packages/ipykernel_launcher.py:7: UserWarning: Boolean Series key will be reindexed to match DataFrame index.\n",
      "  import sys\n",
      "/anaconda3/lib/python3.6/site-packages/ipykernel_launcher.py:7: UserWarning: Boolean Series key will be reindexed to match DataFrame index.\n",
      "  import sys\n",
      "/anaconda3/lib/python3.6/site-packages/ipykernel_launcher.py:7: UserWarning: Boolean Series key will be reindexed to match DataFrame index.\n",
      "  import sys\n",
      "/anaconda3/lib/python3.6/site-packages/ipykernel_launcher.py:7: UserWarning: Boolean Series key will be reindexed to match DataFrame index.\n",
      "  import sys\n",
      "/anaconda3/lib/python3.6/site-packages/ipykernel_launcher.py:7: UserWarning: Boolean Series key will be reindexed to match DataFrame index.\n",
      "  import sys\n",
      "/anaconda3/lib/python3.6/site-packages/ipykernel_launcher.py:7: UserWarning: Boolean Series key will be reindexed to match DataFrame index.\n",
      "  import sys\n",
      "/anaconda3/lib/python3.6/site-packages/ipykernel_launcher.py:7: UserWarning: Boolean Series key will be reindexed to match DataFrame index.\n",
      "  import sys\n",
      "/anaconda3/lib/python3.6/site-packages/ipykernel_launcher.py:7: UserWarning: Boolean Series key will be reindexed to match DataFrame index.\n",
      "  import sys\n",
      "/anaconda3/lib/python3.6/site-packages/ipykernel_launcher.py:7: UserWarning: Boolean Series key will be reindexed to match DataFrame index.\n",
      "  import sys\n",
      "/anaconda3/lib/python3.6/site-packages/ipykernel_launcher.py:7: UserWarning: Boolean Series key will be reindexed to match DataFrame index.\n",
      "  import sys\n",
      "/anaconda3/lib/python3.6/site-packages/ipykernel_launcher.py:7: UserWarning: Boolean Series key will be reindexed to match DataFrame index.\n",
      "  import sys\n",
      "/anaconda3/lib/python3.6/site-packages/ipykernel_launcher.py:7: UserWarning: Boolean Series key will be reindexed to match DataFrame index.\n",
      "  import sys\n",
      "/anaconda3/lib/python3.6/site-packages/ipykernel_launcher.py:7: UserWarning: Boolean Series key will be reindexed to match DataFrame index.\n",
      "  import sys\n",
      "/anaconda3/lib/python3.6/site-packages/ipykernel_launcher.py:7: UserWarning: Boolean Series key will be reindexed to match DataFrame index.\n",
      "  import sys\n",
      "/anaconda3/lib/python3.6/site-packages/ipykernel_launcher.py:7: UserWarning: Boolean Series key will be reindexed to match DataFrame index.\n",
      "  import sys\n",
      "/anaconda3/lib/python3.6/site-packages/ipykernel_launcher.py:7: UserWarning: Boolean Series key will be reindexed to match DataFrame index.\n",
      "  import sys\n",
      "/anaconda3/lib/python3.6/site-packages/ipykernel_launcher.py:7: UserWarning: Boolean Series key will be reindexed to match DataFrame index.\n",
      "  import sys\n",
      "/anaconda3/lib/python3.6/site-packages/ipykernel_launcher.py:7: UserWarning: Boolean Series key will be reindexed to match DataFrame index.\n",
      "  import sys\n",
      "/anaconda3/lib/python3.6/site-packages/ipykernel_launcher.py:7: UserWarning: Boolean Series key will be reindexed to match DataFrame index.\n",
      "  import sys\n",
      "/anaconda3/lib/python3.6/site-packages/ipykernel_launcher.py:7: UserWarning: Boolean Series key will be reindexed to match DataFrame index.\n",
      "  import sys\n",
      "/anaconda3/lib/python3.6/site-packages/ipykernel_launcher.py:7: UserWarning: Boolean Series key will be reindexed to match DataFrame index.\n",
      "  import sys\n",
      "/anaconda3/lib/python3.6/site-packages/ipykernel_launcher.py:7: UserWarning: Boolean Series key will be reindexed to match DataFrame index.\n",
      "  import sys\n",
      "/anaconda3/lib/python3.6/site-packages/ipykernel_launcher.py:7: UserWarning: Boolean Series key will be reindexed to match DataFrame index.\n",
      "  import sys\n",
      "/anaconda3/lib/python3.6/site-packages/ipykernel_launcher.py:7: UserWarning: Boolean Series key will be reindexed to match DataFrame index.\n",
      "  import sys\n"
     ]
    }
   ],
   "source": [
    "result_dist = pandas.DataFrame(columns = ['goals_side_1', 'goals_side_2','draws', 'wins_side_1', 'wins_side_2'])\n",
    "\n",
    "for i in range(len(num_games)):\n",
    "    goals_side_1 = num_games['goals_side_1'][i]\n",
    "    goals_side_2 = num_games['goals_side_2'][i]\n",
    "    \n",
    "    temp = df[df['goals_side_1'] == goals_side_1][df['goals_side_2'] == goals_side_2]\n",
    "    \n",
    "    num_draws = 0\n",
    "    num_win_side_1 = 0\n",
    "    num_win_side_2 = 0\n",
    "    \n",
    "    for winner in temp['winner']:\n",
    "        if winner == 0:\n",
    "            num_draws += 1\n",
    "        elif winner == 1:\n",
    "            num_win_side_1 += 1\n",
    "        else:\n",
    "            num_win_side_2 += 1\n",
    "    result_dist.loc[len(result_dist)] = [goals_side_1, goals_side_2, num_draws, num_win_side_1, num_win_side_2]"
   ]
  },
  {
   "cell_type": "code",
   "execution_count": 12,
   "metadata": {
    "ExecuteTime": {
     "end_time": "2018-10-29T11:19:18.977670",
     "start_time": "2018-10-29T11:19:18.973512"
    }
   },
   "outputs": [],
   "source": [
    "result_dist['num_games_test'] = result_dist['draws'] + result_dist['wins_side_1'] + result_dist['wins_side_2']"
   ]
  },
  {
   "cell_type": "code",
   "execution_count": 64,
   "metadata": {},
   "outputs": [],
   "source": [
    "result_dist['goals_side_1'] = result_dist['goals_side_1'].apply(lambda x: str(x))\n",
    "result_dist['goals_side_2'] = result_dist['goals_side_2'].apply(lambda x: str(x))"
   ]
  },
  {
   "cell_type": "markdown",
   "metadata": {},
   "source": [
    "### merge the result distribution with the num_games df"
   ]
  },
  {
   "cell_type": "code",
   "execution_count": 65,
   "metadata": {
    "ExecuteTime": {
     "end_time": "2018-10-29T11:19:19.001446",
     "start_time": "2018-10-29T11:19:18.980577"
    }
   },
   "outputs": [
    {
     "name": "stdout",
     "output_type": "stream",
     "text": [
      "True\n"
     ]
    },
    {
     "data": {
      "text/html": [
       "<div>\n",
       "<style scoped>\n",
       "    .dataframe tbody tr th:only-of-type {\n",
       "        vertical-align: middle;\n",
       "    }\n",
       "\n",
       "    .dataframe tbody tr th {\n",
       "        vertical-align: top;\n",
       "    }\n",
       "\n",
       "    .dataframe thead th {\n",
       "        text-align: right;\n",
       "    }\n",
       "</style>\n",
       "<table border=\"1\" class=\"dataframe\">\n",
       "  <thead>\n",
       "    <tr style=\"text-align: right;\">\n",
       "      <th></th>\n",
       "      <th>goals_side_1</th>\n",
       "      <th>goals_side_2</th>\n",
       "      <th>num_games</th>\n",
       "      <th>draws</th>\n",
       "      <th>wins_side_1</th>\n",
       "      <th>wins_side_2</th>\n",
       "      <th>num_games_test</th>\n",
       "    </tr>\n",
       "  </thead>\n",
       "  <tbody>\n",
       "    <tr>\n",
       "      <th>0</th>\n",
       "      <td>0</td>\n",
       "      <td>1</td>\n",
       "      <td>3485</td>\n",
       "      <td>761</td>\n",
       "      <td>566</td>\n",
       "      <td>2158</td>\n",
       "      <td>3485</td>\n",
       "    </tr>\n",
       "    <tr>\n",
       "      <th>1</th>\n",
       "      <td>0</td>\n",
       "      <td>2</td>\n",
       "      <td>1304</td>\n",
       "      <td>101</td>\n",
       "      <td>31</td>\n",
       "      <td>1172</td>\n",
       "      <td>1304</td>\n",
       "    </tr>\n",
       "    <tr>\n",
       "      <th>2</th>\n",
       "      <td>0</td>\n",
       "      <td>3</td>\n",
       "      <td>451</td>\n",
       "      <td>7</td>\n",
       "      <td>0</td>\n",
       "      <td>444</td>\n",
       "      <td>451</td>\n",
       "    </tr>\n",
       "    <tr>\n",
       "      <th>3</th>\n",
       "      <td>0</td>\n",
       "      <td>4</td>\n",
       "      <td>139</td>\n",
       "      <td>0</td>\n",
       "      <td>0</td>\n",
       "      <td>139</td>\n",
       "      <td>139</td>\n",
       "    </tr>\n",
       "    <tr>\n",
       "      <th>4</th>\n",
       "      <td>0</td>\n",
       "      <td>5</td>\n",
       "      <td>44</td>\n",
       "      <td>0</td>\n",
       "      <td>0</td>\n",
       "      <td>44</td>\n",
       "      <td>44</td>\n",
       "    </tr>\n",
       "  </tbody>\n",
       "</table>\n",
       "</div>"
      ],
      "text/plain": [
       "  goals_side_1 goals_side_2  num_games draws wins_side_1 wins_side_2  \\\n",
       "0            0            1       3485   761         566        2158   \n",
       "1            0            2       1304   101          31        1172   \n",
       "2            0            3        451     7           0         444   \n",
       "3            0            4        139     0           0         139   \n",
       "4            0            5         44     0           0          44   \n",
       "\n",
       "  num_games_test  \n",
       "0           3485  \n",
       "1           1304  \n",
       "2            451  \n",
       "3            139  \n",
       "4             44  "
      ]
     },
     "execution_count": 65,
     "metadata": {},
     "output_type": "execute_result"
    }
   ],
   "source": [
    "final_df = pandas.merge(num_games, result_dist, on = ['goals_side_1', 'goals_side_2'], how = 'inner')\n",
    "print( sum(final_df['num_games'] == final_df['num_games_test']) == len(final_df))\n",
    "final_df.head()"
   ]
  },
  {
   "cell_type": "markdown",
   "metadata": {},
   "source": [
    "### add a column for the lead"
   ]
  },
  {
   "cell_type": "code",
   "execution_count": 68,
   "metadata": {},
   "outputs": [],
   "source": [
    "final_df['goals_side_1'] = final_df['goals_side_1'].apply(lambda x: int(x))\n",
    "final_df['goals_side_2'] = final_df['goals_side_2'].apply(lambda x: int(x))"
   ]
  },
  {
   "cell_type": "code",
   "execution_count": 69,
   "metadata": {
    "ExecuteTime": {
     "end_time": "2018-10-29T11:19:19.007299",
     "start_time": "2018-10-29T11:19:19.003189"
    }
   },
   "outputs": [],
   "source": [
    "# positive number indicates that the home side is winning\n",
    "# negative number indicates that the away side is winning\n",
    "\n",
    "final_df['lead'] = final_df['goals_side_1'] - final_df['goals_side_2']"
   ]
  },
  {
   "cell_type": "markdown",
   "metadata": {},
   "source": [
    "#### number of games that at some point had each scoreline"
   ]
  },
  {
   "cell_type": "code",
   "execution_count": 70,
   "metadata": {
    "ExecuteTime": {
     "end_time": "2018-10-29T11:19:19.239151",
     "start_time": "2018-10-29T11:19:19.009025"
    }
   },
   "outputs": [
    {
     "data": {
      "image/png": "[encoded data removed]",
      "text/plain": [
       "<Figure size 432x288 with 1 Axes>"
      ]
     },
     "metadata": {},
     "output_type": "display_data"
    }
   ],
   "source": [
    "t = final_df.groupby('lead')['num_games'].sum()\n",
    "plt.xticks(t.index, t.index)\n",
    "plt.tick_params(labelsize = 13)\n",
    "plt.xlabel('Lead', fontsize = 15)\n",
    "plt.ylabel('Number of Games', fontsize = 15)\n",
    "plt.bar(t.index, t)\n",
    "plt.tight_layout()\n",
    "seaborn.despine()"
   ]
  },
  {
   "cell_type": "markdown",
   "metadata": {},
   "source": [
    "## Analysis"
   ]
  },
  {
   "cell_type": "markdown",
   "metadata": {},
   "source": [
    "### number of draws for each lead"
   ]
  },
  {
   "cell_type": "code",
   "execution_count": 71,
   "metadata": {
    "ExecuteTime": {
     "end_time": "2018-10-29T11:19:19.461516",
     "start_time": "2018-10-29T11:19:19.241039"
    }
   },
   "outputs": [
    {
     "data": {
      "image/png": "[encoded data removed]",
      "text/plain": [
       "<Figure size 432x288 with 1 Axes>"
      ]
     },
     "metadata": {},
     "output_type": "display_data"
    }
   ],
   "source": [
    "draws = final_df.groupby('lead')['draws'].sum()\n",
    "\n",
    "plt.xticks(draws.index, draws.index)\n",
    "plt.tick_params(labelsize = 13)\n",
    "plt.xlabel('Lead', fontsize = 15)\n",
    "plt.ylabel('Number of Draws', fontsize = 15)\n",
    "plt.bar(draws.index, draws)\n",
    "plt.tight_layout()\n",
    "seaborn.despine()"
   ]
  },
  {
   "cell_type": "markdown",
   "metadata": {},
   "source": [
    "### number of home wins for each lead"
   ]
  },
  {
   "cell_type": "code",
   "execution_count": 72,
   "metadata": {
    "ExecuteTime": {
     "end_time": "2018-10-29T11:19:19.643892",
     "start_time": "2018-10-29T11:19:19.463393"
    }
   },
   "outputs": [
    {
     "data": {
      "image/png": "[encoded data removed]",
      "text/plain": [
       "<Figure size 432x288 with 1 Axes>"
      ]
     },
     "metadata": {},
     "output_type": "display_data"
    }
   ],
   "source": [
    "home_wins = final_df.groupby('lead')['wins_side_1'].sum()\n",
    "\n",
    "plt.xticks(home_wins.index, home_wins.index)\n",
    "plt.tick_params(labelsize = 13)\n",
    "plt.xlabel('Lead', fontsize = 15)\n",
    "plt.ylabel('Number of Home Wins', fontsize = 15)\n",
    "plt.bar(home_wins.index, home_wins)\n",
    "plt.tight_layout()\n",
    "seaborn.despine()"
   ]
  },
  {
   "cell_type": "markdown",
   "metadata": {},
   "source": [
    "We see that the number of home wins is higher when the lead is positive, i.e., when the home team is leading"
   ]
  },
  {
   "cell_type": "markdown",
   "metadata": {},
   "source": [
    "### number of away wins for each lead"
   ]
  },
  {
   "cell_type": "code",
   "execution_count": 73,
   "metadata": {
    "ExecuteTime": {
     "end_time": "2018-10-29T11:19:19.834612",
     "start_time": "2018-10-29T11:19:19.646130"
    }
   },
   "outputs": [
    {
     "data": {
      "image/png": "[encoded data removed]",
      "text/plain": [
       "<Figure size 432x288 with 1 Axes>"
      ]
     },
     "metadata": {},
     "output_type": "display_data"
    }
   ],
   "source": [
    "away_wins = final_df.groupby('lead')['wins_side_2'].sum()\n",
    "\n",
    "plt.xticks(away_wins.index, away_wins.index)\n",
    "plt.tick_params(labelsize = 13)\n",
    "plt.xlabel('Lead', fontsize = 15)\n",
    "plt.ylabel('Number of Home Wins', fontsize = 15)\n",
    "plt.bar(away_wins.index, away_wins)\n",
    "plt.tight_layout()\n",
    "seaborn.despine()"
   ]
  },
  {
   "cell_type": "markdown",
   "metadata": {},
   "source": [
    "We see that the number of away wins is higher when the lead is negative, i.e., when the away team is leading"
   ]
  },
  {
   "cell_type": "markdown",
   "metadata": {},
   "source": [
    "## get the result distributions as a function of the lead"
   ]
  },
  {
   "cell_type": "code",
   "execution_count": 74,
   "metadata": {
    "ExecuteTime": {
     "end_time": "2018-10-29T11:19:19.840973",
     "start_time": "2018-10-29T11:19:19.836546"
    }
   },
   "outputs": [],
   "source": [
    "df['lead'] = df['goals_side_1'] - df['goals_side_2']"
   ]
  },
  {
   "cell_type": "code",
   "execution_count": 75,
   "metadata": {
    "ExecuteTime": {
     "end_time": "2018-10-29T11:19:21.178671",
     "start_time": "2018-10-29T11:19:19.843082"
    }
   },
   "outputs": [],
   "source": [
    "results = []\n",
    "for i in range(len(df)):\n",
    "    if (df['lead'][i]<0 and df['winner'][i] == 2) or (df['lead'][i]>0 and df['winner'][i]==1):\n",
    "        results.append('win')\n",
    "    elif (df['lead'][i]<0 and df['winner'][i] == 1) or (df['lead'][i]>0 and df['winner'][i]==2):\n",
    "        results.append('lose')\n",
    "    elif df['lead'][i] == 0:\n",
    "        results.append(df['winner'][i])\n",
    "    else:\n",
    "        results.append('draw')\n",
    "\n",
    "df['final_result'] = results"
   ]
  },
  {
   "cell_type": "markdown",
   "metadata": {
    "ExecuteTime": {
     "end_time": "2018-10-26T20:17:37.262825",
     "start_time": "2018-10-26T20:17:37.216341"
    }
   },
   "source": [
    "For this analysis I ignore tied scorelines, aka leads of 0"
   ]
  },
  {
   "cell_type": "code",
   "execution_count": 76,
   "metadata": {
    "ExecuteTime": {
     "end_time": "2018-10-29T11:19:21.183812",
     "start_time": "2018-10-29T11:19:21.180189"
    }
   },
   "outputs": [],
   "source": [
    "df['lead_abs'] = abs(df['lead'])"
   ]
  },
  {
   "cell_type": "code",
   "execution_count": 77,
   "metadata": {
    "ExecuteTime": {
     "end_time": "2018-10-29T11:19:21.199722",
     "start_time": "2018-10-29T11:19:21.185954"
    }
   },
   "outputs": [
    {
     "data": {
      "text/plain": [
       "lead_abs\n",
       "1    12261\n",
       "2     5187\n",
       "3     1919\n",
       "4      661\n",
       "5      192\n",
       "6       59\n",
       "7       24\n",
       "8       10\n",
       "dtype: int64"
      ]
     },
     "execution_count": 77,
     "metadata": {},
     "output_type": "execute_result"
    }
   ],
   "source": [
    "df[df['lead_abs']>0].groupby(['lead_abs']).size()"
   ]
  },
  {
   "cell_type": "code",
   "execution_count": 78,
   "metadata": {
    "ExecuteTime": {
     "end_time": "2018-10-29T11:19:21.449071",
     "start_time": "2018-10-29T11:19:21.202289"
    }
   },
   "outputs": [
    {
     "data": {
      "image/png": "[encoded data removed]",
      "text/plain": [
       "<Figure size 432x288 with 1 Axes>"
      ]
     },
     "metadata": {},
     "output_type": "display_data"
    }
   ],
   "source": [
    "plt.bar(range(1,9), df[df['lead_abs']>0].groupby(['lead_abs']).size() , color='lightskyblue')\n",
    "\n",
    "\n",
    "plt.xticks(range(1,9), range(1,9))\n",
    "plt.tick_params(labelsize = 17)\n",
    "plt.xlabel('Lead', fontsize = 17)\n",
    "plt.ylabel('Number of Occurences', fontsize = 17)\n",
    "\n",
    "plt.tight_layout()\n",
    "seaborn.despine()\n",
    "plt.savefig('lead_num_occurences.png', dpi=200, frameon=False)"
   ]
  },
  {
   "cell_type": "code",
   "execution_count": 79,
   "metadata": {
    "ExecuteTime": {
     "end_time": "2018-10-29T11:19:21.468421",
     "start_time": "2018-10-29T11:19:21.450948"
    }
   },
   "outputs": [
    {
     "data": {
      "text/plain": [
       "lead_abs  final_result\n",
       "1         draw             18.301933\n",
       "          lose              9.575075\n",
       "          win              72.122992\n",
       "2         draw              4.993252\n",
       "          lose              1.426644\n",
       "          win              93.580104\n",
       "3         draw              0.833768\n",
       "          lose              0.052110\n",
       "          win              99.114122\n",
       "4         win             100.000000\n",
       "5         win             100.000000\n",
       "6         win             100.000000\n",
       "7         win             100.000000\n",
       "8         win             100.000000\n",
       "dtype: float64"
      ]
     },
     "execution_count": 79,
     "metadata": {},
     "output_type": "execute_result"
    }
   ],
   "source": [
    "df[df['lead_abs']>0].groupby(['lead_abs','final_result']).size()/df[df['lead_abs']>0].groupby(['lead_abs']).size()*100"
   ]
  },
  {
   "cell_type": "code",
   "execution_count": 80,
   "metadata": {
    "ExecuteTime": {
     "end_time": "2018-10-29T11:19:21.763443",
     "start_time": "2018-10-29T11:19:21.470130"
    }
   },
   "outputs": [
    {
     "data": {
      "image/png": "[encoded data removed]",
      "text/plain": [
       "<Figure size 432x288 with 1 Axes>"
      ]
     },
     "metadata": {},
     "output_type": "display_data"
    }
   ],
   "source": [
    "win = [72.12, 93.58, 99.11, 100, 100, 100, 100,100]\n",
    "lose = [9.57, 1.42, 0.052, 0, 0, 0, 0, 0]\n",
    "draw = [18.3, 4.99, 0.83, 0, 0, 0, 0, 0]\n",
    "\n",
    "plt.bar(range(1,9), win , color='g')\n",
    "plt.bar(range(1,9), draw , bottom = win,  color='orange')\n",
    "plt.bar(range(1,9), lose, bottom = [x + y for x, y in zip(win, draw)], color = 'red' )\n",
    "\n",
    "\n",
    "plt.xticks(range(1,9), range(1,9))\n",
    "plt.tick_params(labelsize = 17)\n",
    "plt.xlabel('Lead', fontsize = 17)\n",
    "plt.ylabel('% of Results', fontsize = 17)\n",
    "\n",
    "plt.tight_layout()\n",
    "seaborn.despine()\n",
    "plt.savefig('lead_num_occurences.png', dpi=200, frameon=False)"
   ]
  },
  {
   "cell_type": "markdown",
   "metadata": {},
   "source": [
    "## break the analysis into home and away leads"
   ]
  },
  {
   "cell_type": "code",
   "execution_count": 146,
   "metadata": {},
   "outputs": [
    {
     "name": "stderr",
     "output_type": "stream",
     "text": [
      "/anaconda3/lib/python3.6/site-packages/ipykernel_launcher.py:2: UserWarning: Boolean Series key will be reindexed to match DataFrame index.\n",
      "  \n",
      "/anaconda3/lib/python3.6/site-packages/ipykernel_launcher.py:3: UserWarning: Boolean Series key will be reindexed to match DataFrame index.\n",
      "  This is separate from the ipykernel package so we can avoid doing imports until\n",
      "/anaconda3/lib/python3.6/site-packages/ipykernel_launcher.py:4: UserWarning: Boolean Series key will be reindexed to match DataFrame index.\n",
      "  after removing the cwd from sys.path.\n"
     ]
    },
    {
     "data": {
      "image/png": "[encoded data removed]",
      "text/plain": [
       "<Figure size 432x288 with 1 Axes>"
      ]
     },
     "metadata": {},
     "output_type": "display_data"
    }
   ],
   "source": [
    "## pct of wins of the home team for every lead of the home team\n",
    "wins_home = df[df['lead']>0][df['winner']==1].groupby('lead').size() / df[df['lead']>0].groupby('lead').size()*100\n",
    "draws_home = df[df['lead']>0][df['winner']==0].groupby('lead').size() / df[df['lead']>0].groupby('lead').size()*100\n",
    "loses_home = df[df['lead']>0][df['winner']==2].groupby('lead').size() / df[df['lead']>0].groupby('lead').size()*100\n",
    "\n",
    "\n",
    "plt.bar(range(len(wins_home)), wins_home , color='g')\n",
    "plt.bar(range(len(wins_home)), draws_home , bottom = wins_home,  color='orange')\n",
    "plt.bar(range(len(wins_home)), loses_home, bottom = wins_home+draws_home, color = 'red' )\n",
    "\n",
    "\n",
    "plt.xticks(range(len(wins_home)), range(1,9))\n",
    "plt.tick_params(labelsize = 17)\n",
    "plt.xlabel('Lead of the Home Team', fontsize = 17)\n",
    "plt.ylabel('% of Results', fontsize = 17)\n",
    "\n",
    "plt.tight_layout()\n",
    "seaborn.despine()\n",
    "plt.savefig('lead_results_home_team.png', dpi=200, frameon=False)\n"
   ]
  },
  {
   "cell_type": "code",
   "execution_count": 133,
   "metadata": {},
   "outputs": [
    {
     "name": "stderr",
     "output_type": "stream",
     "text": [
      "/anaconda3/lib/python3.6/site-packages/ipykernel_launcher.py:3: UserWarning: Boolean Series key will be reindexed to match DataFrame index.\n",
      "  This is separate from the ipykernel package so we can avoid doing imports until\n",
      "/anaconda3/lib/python3.6/site-packages/ipykernel_launcher.py:4: UserWarning: Boolean Series key will be reindexed to match DataFrame index.\n",
      "  after removing the cwd from sys.path.\n",
      "/anaconda3/lib/python3.6/site-packages/ipykernel_launcher.py:5: UserWarning: Boolean Series key will be reindexed to match DataFrame index.\n",
      "  \"\"\"\n"
     ]
    },
    {
     "data": {
      "image/png": "[encoded data removed]",
      "text/plain": [
       "<Figure size 432x288 with 1 Axes>"
      ]
     },
     "metadata": {},
     "output_type": "display_data"
    }
   ],
   "source": [
    "## pct of wins of the away team for every lead of the home team\n",
    "\n",
    "wins_away = df[df['lead']<0][df['winner']==2].groupby('lead_abs').size().sort_values(ascending = False) / df[df['lead']<0].groupby('lead_abs').size().sort_values(ascending = False)*100\n",
    "draws_away = df[df['lead']<0][df['winner']==0].groupby('lead_abs').size().sort_values(ascending = False) / df[df['lead']<0].groupby('lead_abs').size().sort_values(ascending = False)*100\n",
    "loses_away = df[df['lead']<0][df['winner']==1].groupby('lead_abs').size().sort_values(ascending = False) / df[df['lead']<0].groupby('lead_abs').size().sort_values(ascending = False)*100\n",
    "\n",
    "\n",
    "plt.bar([abs(x) for x in wins_away.index], wins_away , color='g')\n",
    "plt.bar([abs(x) for x in draws_away.index], draws_away , bottom = wins_away,  color='orange')\n",
    "plt.bar([abs(x) for x in loses_away.index], loses_away, bottom = wins_away+draws_away, color = 'red' )\n",
    "\n",
    "\n",
    "plt.xticks(range(1,9), range(1,9))\n",
    "plt.tick_params(labelsize = 17)\n",
    "plt.xlabel('Lead of the Away Team', fontsize = 17)\n",
    "plt.ylabel('% of Results', fontsize = 17)\n",
    "\n",
    "plt.tight_layout()\n",
    "seaborn.despine()\n",
    "plt.savefig('lead_results_away_team.png', dpi=200, frameon=False)\n"
   ]
  },
  {
   "cell_type": "code",
   "execution_count": 148,
   "metadata": {},
   "outputs": [
    {
     "data": {
      "text/plain": [
       "(lead\n",
       " 1     76.357514\n",
       " 2     94.883439\n",
       " 3     99.391172\n",
       " 4    100.000000\n",
       " 5    100.000000\n",
       " 6    100.000000\n",
       " 7    100.000000\n",
       " 8    100.000000\n",
       " dtype: float64, lead_abs\n",
       " 1     66.244644\n",
       " 2     91.295117\n",
       " 3     98.512397\n",
       " 4    100.000000\n",
       " 5    100.000000\n",
       " 6    100.000000\n",
       " 7    100.000000\n",
       " 8    100.000000\n",
       " dtype: float64)"
      ]
     },
     "execution_count": 148,
     "metadata": {},
     "output_type": "execute_result"
    }
   ],
   "source": [
    "wins_home, wins_away"
   ]
  },
  {
   "cell_type": "code",
   "execution_count": 145,
   "metadata": {},
   "outputs": [
    {
     "data": {
      "text/plain": [
       "<BarContainer object of 8 artists>"
      ]
     },
     "execution_count": 145,
     "metadata": {},
     "output_type": "execute_result"
    },
    {
     "data": {
      "image/png": "[encoded data removed]",
      "text/plain": [
       "<Figure size 432x288 with 1 Axes>"
      ]
     },
     "metadata": {},
     "output_type": "display_data"
    }
   ],
   "source": [
    "width = 0.5\n",
    "a = 0.8\n",
    "\n",
    "plt.bar(range(len(wins)), wins_home , width = width, color='g')\n",
    "plt.bar(range(len(wins)), draws_home , bottom = wins_home,  width = width, color='orange')\n",
    "plt.bar(range(len(wins)), loses_home, bottom = wins_home+draws_home, width = width, color = 'red' )\n",
    "\n",
    "plt.bar([x+width for x in range(len(wins))], wins_away ,width = width,  color='g', alpha = a)\n",
    "plt.bar([x+width for x in range(len(wins))], draws_away , bottom = wins_away, width = width,  color='orange', alpha = a)\n",
    "plt.bar([x+width for x in range(len(wins))], loses_away, bottom = wins_away+draws_away,width = width,  color = 'red' ,alpha = a)\n",
    "\n",
    "plt.\n"
   ]
  },
  {
   "cell_type": "markdown",
   "metadata": {},
   "source": [
    "## consider only 2-0 (or 0-2) leads and compared them with 1-0 (0-1)"
   ]
  },
  {
   "cell_type": "code",
   "execution_count": null,
   "metadata": {
    "ExecuteTime": {
     "end_time": "2018-10-29T11:19:21.784064",
     "start_time": "2018-10-29T11:19:21.766090"
    }
   },
   "outputs": [],
   "source": [
    "## 1-0 or 0-1 leads and all the final resutls\n",
    "df[df['goals_side_1']==0][df['goals_side_2']==1].groupby('final_result').size()+\\\n",
    "df[df['goals_side_1']==1][df['goals_side_2']==0].groupby('final_result').size()"
   ]
  },
  {
   "cell_type": "code",
   "execution_count": null,
   "metadata": {
    "ExecuteTime": {
     "end_time": "2018-10-29T11:19:21.799653",
     "start_time": "2018-10-29T11:19:21.786003"
    }
   },
   "outputs": [],
   "source": [
    "## 2-0 or 0-2 leads and all the final resutls\n",
    "df[df['goals_side_1']==0][df['goals_side_2']==2].groupby('final_result').size()+\\\n",
    "df[df['goals_side_1']==2][df['goals_side_2']==0].groupby('final_result').size()"
   ]
  },
  {
   "cell_type": "code",
   "execution_count": null,
   "metadata": {
    "ExecuteTime": {
     "end_time": "2018-10-29T11:19:21.834693",
     "start_time": "2018-10-29T11:19:21.809857"
    }
   },
   "outputs": [],
   "source": [
    "## 3-0 or 0-3 leads and all the final resutls\n",
    "df[df['goals_side_1']==0][df['goals_side_2']==3].groupby('final_result').size() + \\\n",
    "df[df['goals_side_1']==3][df['goals_side_2']==0].groupby('final_result').size()"
   ]
  },
  {
   "cell_type": "code",
   "execution_count": null,
   "metadata": {
    "ExecuteTime": {
     "end_time": "2018-10-29T11:19:22.150816",
     "start_time": "2018-10-29T11:19:21.836997"
    }
   },
   "outputs": [],
   "source": [
    "plt.bar(range(3), [5781/(1595+984+5781)*100, 3357/(209+62+3357)*100, 1396.0/(1+13.0+1396.0)*100] , color='lightgreen')\n",
    "\n",
    "\n",
    "plt.xticks(range(3), ['1-0 (or 0-1)', '2-0 (or 0-2)' ,'3-0 (or 0-3)'])\n",
    "plt.tick_params(labelsize = 17)\n",
    "plt.xlabel('Scoreline', fontsize = 17)\n",
    "plt.ylabel('% of Winning', fontsize = 17)\n",
    "\n",
    "plt.tight_layout()\n",
    "seaborn.despine()\n",
    "plt.savefig('two_null_leads.png', dpi=200, frameon=False)"
   ]
  }
 ],
 "metadata": {
  "anaconda-cloud": {},
  "kernelspec": {
   "display_name": "Python 3",
   "language": "python",
   "name": "python3"
  },
  "language_info": {
   "codemirror_mode": {
    "name": "ipython",
    "version": 3
   },
   "file_extension": ".py",
   "mimetype": "text/x-python",
   "name": "python",
   "nbconvert_exporter": "python",
   "pygments_lexer": "ipython3",
   "version": "3.6.5"
  },
  "toc": {
   "colors": {
    "hover_highlight": "#DAA520",
    "running_highlight": "#FF0000",
    "selected_highlight": "#FFD700"
   },
   "moveMenuLeft": true,
   "nav_menu": {
    "height": "278px",
    "width": "252px"
   },
   "navigate_menu": true,
   "number_sections": true,
   "sideBar": true,
   "threshold": 4,
   "toc_cell": false,
   "toc_section_display": "block",
   "toc_window_display": false
  }
 },
 "nbformat": 4,
 "nbformat_minor": 2
}
